{
 "cells": [
  {
   "cell_type": "code",
   "execution_count": 1,
   "id": "dcc92fc5",
   "metadata": {
    "scrolled": false
   },
   "outputs": [
    {
     "name": "stdout",
     "output_type": "stream",
     "text": [
      "define i32 @f() nounwind {\n",
      "%y = alloca i32\n",
      "store i32 1, i32* %y\n",
      "%1 = load i32, i32* %y\n",
      "%2 = mul i32 4, %1\n",
      "store i32 %2, i32* %y\n",
      "ret i32 %2\n",
      "}\n",
      "define i32 @main() nounwind{\n",
      "%x = alloca i32\n",
      "store i32 3, i32* %x\n",
      "%1 = call i32 @f()\n",
      "store i32 1, i32* %x\n",
      "ret i32 0 }\n",
      "\n"
     ]
    }
   ],
   "source": [
    "import sys\n",
    "from antlr4 import *\n",
    "from ExprLexer import ExprLexer\n",
    "from ExprParser import ExprParser\n",
    "from ExprListener import ExprListener\n",
    "from LLVMActions import LLVMActions\n",
    "\n",
    "#input = \"x =2* (1 - 2)*3\\n y = 3.3 \\nx = toint y +1 \\n\"\n",
    "#input = \"y = 1 \\n x = 2 \\n if x < 2 {if x != y {y = 2 \\n} else {y = 3 \\n} \\n} else {y = 1 \\n} \\n\"\n",
    "#input = \"y = 1 \\n x = 2 \\n if x < 2 {x = 3 \\n}  else {y = 3 \\n} \\n y = 1 \\n\"\n",
    "#input = \"x = 2 \\n while x == 3 {x = 1 \\n} \\n y = 6\\n\"\n",
    "input = \"x = 3 \\n function int f(){y = 1 \\n y = y * 4 \\n} \\n  x = f() \\n\"\n",
    "#input = \"iter = 4 \\n a = 2 \\n while iter == 4 {a = a + 1 \\n while a == 3 {a = 1 *2 \\n} \\n } \\n \"\n",
    "\n",
    "input_stream = InputStream(input)\n",
    "lexer = ExprLexer(input_stream)\n",
    "stream = CommonTokenStream(lexer)\n",
    "parser = ExprParser(stream)\n",
    "tree = parser.prog()\n",
    "\n",
    "walker = ParseTreeWalker()\n",
    "#walker.walk(ExprListener(), tree)\n",
    "walker.walk(LLVMActions(), tree)"
   ]
  },
  {
   "cell_type": "code",
   "execution_count": null,
   "id": "05f2476a",
   "metadata": {},
   "outputs": [],
   "source": []
  }
 ],
 "metadata": {
  "kernelspec": {
   "display_name": "Python 3 (ipykernel)",
   "language": "python",
   "name": "python3"
  },
  "language_info": {
   "codemirror_mode": {
    "name": "ipython",
    "version": 3
   },
   "file_extension": ".py",
   "mimetype": "text/x-python",
   "name": "python",
   "nbconvert_exporter": "python",
   "pygments_lexer": "ipython3",
   "version": "3.11.5"
  }
 },
 "nbformat": 4,
 "nbformat_minor": 5
}
